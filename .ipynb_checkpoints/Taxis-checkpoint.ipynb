{
 "cells": [
  {
   "cell_type": "code",
   "execution_count": null,
   "id": "22fa55b4",
   "metadata": {},
   "outputs": [],
   "source": [
    "import seaborn as sns\n",
    "import pandas as pd\n",
    "import matplotlib.pyplot as plt\n",
    "%matplotlib inline\n",
    "import warnings\n",
    "warnings.filterwarnings('ignore')"
   ]
  },
  {
   "cell_type": "code",
   "execution_count": null,
   "id": "4245fd46",
   "metadata": {},
   "outputs": [],
   "source": [
    "sns.get_dataset_names()"
   ]
  },
  {
   "cell_type": "code",
   "execution_count": null,
   "id": "88d890b2",
   "metadata": {},
   "outputs": [],
   "source": [
    "df = sns.load_dataset(\"taxis\")"
   ]
  },
  {
   "cell_type": "code",
   "execution_count": null,
   "id": "3c11af18",
   "metadata": {},
   "outputs": [],
   "source": [
    "df.head()"
   ]
  },
  {
   "cell_type": "code",
   "execution_count": null,
   "id": "824ca044",
   "metadata": {},
   "outputs": [],
   "source": [
    "df.columns"
   ]
  },
  {
   "cell_type": "code",
   "execution_count": null,
   "id": "4e928af6",
   "metadata": {},
   "outputs": [],
   "source": [
    "df.info()"
   ]
  },
  {
   "cell_type": "code",
   "execution_count": null,
   "id": "4544ef2a",
   "metadata": {},
   "outputs": [],
   "source": [
    "df.describe()"
   ]
  },
  {
   "cell_type": "code",
   "execution_count": null,
   "id": "d48cc12e",
   "metadata": {},
   "outputs": [],
   "source": [
    "df.isnull().sum()"
   ]
  },
  {
   "cell_type": "code",
   "execution_count": null,
   "id": "957411f3",
   "metadata": {},
   "outputs": [],
   "source": [
    "df.shape"
   ]
  },
  {
   "cell_type": "code",
   "execution_count": null,
   "id": "5e58e932",
   "metadata": {},
   "outputs": [],
   "source": [
    "sns.set_theme(style=\"dark\")"
   ]
  },
  {
   "cell_type": "code",
   "execution_count": null,
   "id": "c7c1b424",
   "metadata": {},
   "outputs": [],
   "source": [
    "plt.title('Heatmap for taxis')\n",
    "sns.heatmap(df.corr(), annot = True, cmap = 'cividis', cbar = False)\n",
    "plt.show()"
   ]
  },
  {
   "cell_type": "code",
   "execution_count": null,
   "id": "4f1bfed1",
   "metadata": {},
   "outputs": [],
   "source": [
    "plt.title('Heatmap for checking null value exists or not')\n",
    "sns.heatmap(df.isnull())\n",
    "plt.show()"
   ]
  },
  {
   "cell_type": "code",
   "execution_count": null,
   "id": "6dcf88fe",
   "metadata": {},
   "outputs": [],
   "source": [
    "df['pickup_zone'].nunique()"
   ]
  },
  {
   "cell_type": "code",
   "execution_count": null,
   "id": "051744f2",
   "metadata": {},
   "outputs": [],
   "source": [
    "df['payment'].nunique()"
   ]
  },
  {
   "cell_type": "code",
   "execution_count": null,
   "id": "49154c52",
   "metadata": {},
   "outputs": [],
   "source": [
    "df['payment'].fillna(df['payment'].mode, inplace = True)"
   ]
  },
  {
   "cell_type": "code",
   "execution_count": null,
   "id": "9379da39",
   "metadata": {},
   "outputs": [],
   "source": [
    "df['dropoff_borough'].fillna(df['dropoff_borough'].mode, inplace = True)"
   ]
  },
  {
   "cell_type": "code",
   "execution_count": null,
   "id": "4822798f",
   "metadata": {},
   "outputs": [],
   "source": [
    "df['pickup_borough'].fillna(df['pickup_borough'].mode, inplace = True)"
   ]
  },
  {
   "cell_type": "code",
   "execution_count": null,
   "id": "528da0eb",
   "metadata": {},
   "outputs": [],
   "source": [
    "df.isnull().sum()"
   ]
  },
  {
   "cell_type": "code",
   "execution_count": null,
   "id": "1257ce52",
   "metadata": {},
   "outputs": [],
   "source": [
    "df.shape"
   ]
  },
  {
   "cell_type": "code",
   "execution_count": null,
   "id": "91eb3449",
   "metadata": {},
   "outputs": [],
   "source": [
    "df1 = df.dropna()"
   ]
  },
  {
   "cell_type": "code",
   "execution_count": null,
   "id": "47dfc501",
   "metadata": {},
   "outputs": [],
   "source": [
    "df1.shape"
   ]
  },
  {
   "cell_type": "code",
   "execution_count": null,
   "id": "6bf9cd90",
   "metadata": {},
   "outputs": [],
   "source": [
    "df1.reset_index()"
   ]
  },
  {
   "cell_type": "code",
   "execution_count": null,
   "id": "9d922237",
   "metadata": {},
   "outputs": [],
   "source": [
    "df1.isnull().sum() # NO null value exist here."
   ]
  },
  {
   "cell_type": "code",
   "execution_count": null,
   "id": "52b364c9",
   "metadata": {},
   "outputs": [],
   "source": [
    "plt.title('Heatmap for checking null value exists or not')\n",
    "sns.heatmap(df1.isnull())\n",
    "plt.show()"
   ]
  },
  {
   "cell_type": "code",
   "execution_count": null,
   "id": "8a01202b",
   "metadata": {},
   "outputs": [],
   "source": [
    "df1.info() "
   ]
  },
  {
   "cell_type": "code",
   "execution_count": null,
   "id": "0ca90536",
   "metadata": {},
   "outputs": [],
   "source": [
    "df1.head(6)"
   ]
  },
  {
   "cell_type": "code",
   "execution_count": null,
   "id": "e3d9cdd0",
   "metadata": {},
   "outputs": [],
   "source": [
    "plt.title('Scatter plot between tips and total')\n",
    "plt.xlabel('Total')\n",
    "plt.ylabel('Tip')\n",
    "sns.scatterplot(x= df1['total'], y = df1['tip'])\n",
    "plt.show()"
   ]
  },
  {
   "cell_type": "code",
   "execution_count": null,
   "id": "5281e72a",
   "metadata": {},
   "outputs": [],
   "source": [
    "plt.title('Countplot for payment method')\n",
    "sns.countplot(df1['payment'])\n",
    "plt.show()"
   ]
  },
  {
   "cell_type": "code",
   "execution_count": null,
   "id": "f0057abd",
   "metadata": {},
   "outputs": [],
   "source": [
    "sns.lmplot(x = 'fare', y = 'distance', data = df1, line_kws={'color': 'orange'},\n",
    "           scatter_kws={\"s\": 10, \"alpha\": 0.5, 'color':'orange'}) \n",
    "#  Here, outliers have been removed.\n",
    "plt.xlabel('Fare')\n",
    "plt.title(\"Line plot between fare and distance\")\n",
    "plt.ylabel('Distance')\n",
    "plt.show()"
   ]
  },
  {
   "cell_type": "code",
   "execution_count": null,
   "id": "5570e9b9",
   "metadata": {},
   "outputs": [],
   "source": [
    "df1[df1['distance']>35]"
   ]
  },
  {
   "cell_type": "code",
   "execution_count": null,
   "id": "eaefa94e",
   "metadata": {},
   "outputs": [],
   "source": [
    "df2 = df1[df1.distance != 36.7]"
   ]
  },
  {
   "cell_type": "code",
   "execution_count": null,
   "id": "812a0951",
   "metadata": {},
   "outputs": [],
   "source": [
    "df2.shape"
   ]
  },
  {
   "cell_type": "code",
   "execution_count": null,
   "id": "4641e19a",
   "metadata": {},
   "outputs": [],
   "source": [
    "sns.lmplot(x = 'fare', y = 'distance', data = df2, line_kws={'color': 'orange'},\n",
    "           scatter_kws={\"s\": 10, \"alpha\": 0.5, 'color':'orange'}) \n",
    "#  Here, outliers have been removed.\n",
    "plt.xlabel('Fare')\n",
    "plt.ylabel('Distance')\n",
    "plt.title(\"Line plot between fare and distance\")\n",
    "plt.show()"
   ]
  },
  {
   "cell_type": "code",
   "execution_count": null,
   "id": "eb63450d",
   "metadata": {},
   "outputs": [],
   "source": [
    "df2['color'].value_counts()"
   ]
  },
  {
   "cell_type": "code",
   "execution_count": null,
   "id": "81af97b0",
   "metadata": {},
   "outputs": [],
   "source": [
    "plt.title(\"Count plot for taxi's color\")\n",
    "sns.countplot(x=df2[\"color\"])\n",
    "plt.show()"
   ]
  }
 ],
 "metadata": {
  "kernelspec": {
   "display_name": "Python 3 (ipykernel)",
   "language": "python",
   "name": "python3"
  },
  "language_info": {
   "codemirror_mode": {
    "name": "ipython",
    "version": 3
   },
   "file_extension": ".py",
   "mimetype": "text/x-python",
   "name": "python",
   "nbconvert_exporter": "python",
   "pygments_lexer": "ipython3",
   "version": "3.9.13"
  }
 },
 "nbformat": 4,
 "nbformat_minor": 5
}
